{
 "cells": [
  {
   "cell_type": "markdown",
   "id": "60be06bb-c561-4b83-92a2-76ba1d160b5f",
   "metadata": {},
   "source": [
    "# Additional Baggage Analysis"
   ]
  },
  {
   "cell_type": "markdown",
   "id": "09d694e2-7c00-4eae-a5c0-67689f3ebf3d",
   "metadata": {},
   "source": []
  },
  {
   "cell_type": "markdown",
   "id": "d7101e30-9306-41d5-885c-f68e82c1ff13",
   "metadata": {},
   "source": [
    "## Overview"
   ]
  },
  {
   "cell_type": "markdown",
   "id": "d215ace1-fb38-4ecd-84ec-f3772d96d17a",
   "metadata": {},
   "source": []
  },
  {
   "cell_type": "markdown",
   "id": "153950c2-54fb-4d8a-93fd-d757a33338fa",
   "metadata": {},
   "source": [
    "## Business Understanding"
   ]
  },
  {
   "cell_type": "raw",
   "id": "7eb8c1a1-4434-4f5b-908c-f039485a5f3f",
   "metadata": {},
   "source": []
  },
  {
   "cell_type": "markdown",
   "id": "16fd5149-1ef9-4df5-9833-efe2aac6f1ad",
   "metadata": {},
   "source": [
    "## Data Understanding"
   ]
  },
  {
   "cell_type": "markdown",
   "id": "6df2eef1-eb47-4bab-95be-cf0b9f5986ae",
   "metadata": {},
   "source": []
  },
  {
   "cell_type": "markdown",
   "id": "f28d0784-58b4-4024-97e4-dfb6bad8c934",
   "metadata": {},
   "source": [
    "## Data Preparation"
   ]
  },
  {
   "cell_type": "markdown",
   "id": "c17d5e17-a974-4fc4-b314-4cb645cef5a6",
   "metadata": {},
   "source": [
    "To complete the data preparations we will follow these steps:\n",
    "- ccc\n",
    "- ffff\n",
    "- ccc\n"
   ]
  },
  {
   "cell_type": "markdown",
   "id": "78c61a7a-357e-40b7-ac8c-e27cf9113557",
   "metadata": {},
   "source": [
    "### Data Cleaning"
   ]
  },
  {
   "cell_type": "code",
   "execution_count": 1,
   "id": "c6a317e8-7cbf-4842-b1d0-76372730a56c",
   "metadata": {},
   "outputs": [],
   "source": [
    "# Import necessary libraries to complete EDA\n",
    "import pandas as pd\n",
    "import numpy as np\n",
    "import matplotlib.pyplot as plt\n",
    "from sklearn.model_selection import train_test_split\n",
    "import statsmodels.api as sm\n",
    "from sklearn.linear_model import LogisticRegression\n",
    "from sklearn.preprocessing import OneHotEncoder, StandardScaler\n",
    "from sklearn.tree import DecisionTreeClassifier\n",
    "from sklearn.metrics import accuracy_score, roc_curve, auc, precision_score, confusion_matrix, ConfusionMatrixDisplay\n",
    "from sklearn import tree\n",
    "import helper\n",
    "\n",
    "%matplotlib inline\n",
    "\n",
    "pd.options.mode.copy_on_write = True\n",
    "\n",
    "# Suppress harmless warning for use_inf_as_na\n",
    "import warnings\n",
    "warnings.simplefilter(action=\"ignore\", category=FutureWarning)"
   ]
  },
  {
   "cell_type": "code",
   "execution_count": 2,
   "id": "51fbb1cd-c14e-426f-94b8-8abc67fbd2ba",
   "metadata": {},
   "outputs": [],
   "source": [
    "# Load the dataset into the notebook\n",
    "df = pd.read_csv('data/customer_booking.csv', encoding='latin-1')"
   ]
  },
  {
   "cell_type": "code",
   "execution_count": 3,
   "id": "b7af14d2-4860-44ca-88a2-5f7c40eedc81",
   "metadata": {},
   "outputs": [
    {
     "data": {
      "text/html": [
       "<div>\n",
       "<style scoped>\n",
       "    .dataframe tbody tr th:only-of-type {\n",
       "        vertical-align: middle;\n",
       "    }\n",
       "\n",
       "    .dataframe tbody tr th {\n",
       "        vertical-align: top;\n",
       "    }\n",
       "\n",
       "    .dataframe thead th {\n",
       "        text-align: right;\n",
       "    }\n",
       "</style>\n",
       "<table border=\"1\" class=\"dataframe\">\n",
       "  <thead>\n",
       "    <tr style=\"text-align: right;\">\n",
       "      <th></th>\n",
       "      <th>num_passengers</th>\n",
       "      <th>sales_channel</th>\n",
       "      <th>trip_type</th>\n",
       "      <th>purchase_lead</th>\n",
       "      <th>length_of_stay</th>\n",
       "      <th>flight_hour</th>\n",
       "      <th>flight_day</th>\n",
       "      <th>route</th>\n",
       "      <th>booking_origin</th>\n",
       "      <th>wants_extra_baggage</th>\n",
       "      <th>wants_preferred_seat</th>\n",
       "      <th>wants_in_flight_meals</th>\n",
       "      <th>flight_duration</th>\n",
       "      <th>booking_complete</th>\n",
       "    </tr>\n",
       "  </thead>\n",
       "  <tbody>\n",
       "    <tr>\n",
       "      <th>0</th>\n",
       "      <td>2</td>\n",
       "      <td>Internet</td>\n",
       "      <td>RoundTrip</td>\n",
       "      <td>262</td>\n",
       "      <td>19</td>\n",
       "      <td>7</td>\n",
       "      <td>Sat</td>\n",
       "      <td>AKLDEL</td>\n",
       "      <td>New Zealand</td>\n",
       "      <td>1</td>\n",
       "      <td>0</td>\n",
       "      <td>0</td>\n",
       "      <td>5.52</td>\n",
       "      <td>0</td>\n",
       "    </tr>\n",
       "    <tr>\n",
       "      <th>1</th>\n",
       "      <td>1</td>\n",
       "      <td>Internet</td>\n",
       "      <td>RoundTrip</td>\n",
       "      <td>112</td>\n",
       "      <td>20</td>\n",
       "      <td>3</td>\n",
       "      <td>Sat</td>\n",
       "      <td>AKLDEL</td>\n",
       "      <td>New Zealand</td>\n",
       "      <td>0</td>\n",
       "      <td>0</td>\n",
       "      <td>0</td>\n",
       "      <td>5.52</td>\n",
       "      <td>0</td>\n",
       "    </tr>\n",
       "    <tr>\n",
       "      <th>2</th>\n",
       "      <td>2</td>\n",
       "      <td>Internet</td>\n",
       "      <td>RoundTrip</td>\n",
       "      <td>243</td>\n",
       "      <td>22</td>\n",
       "      <td>17</td>\n",
       "      <td>Wed</td>\n",
       "      <td>AKLDEL</td>\n",
       "      <td>India</td>\n",
       "      <td>1</td>\n",
       "      <td>1</td>\n",
       "      <td>0</td>\n",
       "      <td>5.52</td>\n",
       "      <td>0</td>\n",
       "    </tr>\n",
       "    <tr>\n",
       "      <th>3</th>\n",
       "      <td>1</td>\n",
       "      <td>Internet</td>\n",
       "      <td>RoundTrip</td>\n",
       "      <td>96</td>\n",
       "      <td>31</td>\n",
       "      <td>4</td>\n",
       "      <td>Sat</td>\n",
       "      <td>AKLDEL</td>\n",
       "      <td>New Zealand</td>\n",
       "      <td>0</td>\n",
       "      <td>0</td>\n",
       "      <td>1</td>\n",
       "      <td>5.52</td>\n",
       "      <td>0</td>\n",
       "    </tr>\n",
       "    <tr>\n",
       "      <th>4</th>\n",
       "      <td>2</td>\n",
       "      <td>Internet</td>\n",
       "      <td>RoundTrip</td>\n",
       "      <td>68</td>\n",
       "      <td>22</td>\n",
       "      <td>15</td>\n",
       "      <td>Wed</td>\n",
       "      <td>AKLDEL</td>\n",
       "      <td>India</td>\n",
       "      <td>1</td>\n",
       "      <td>0</td>\n",
       "      <td>1</td>\n",
       "      <td>5.52</td>\n",
       "      <td>0</td>\n",
       "    </tr>\n",
       "  </tbody>\n",
       "</table>\n",
       "</div>"
      ],
      "text/plain": [
       "   num_passengers sales_channel  trip_type  purchase_lead  length_of_stay  \\\n",
       "0               2      Internet  RoundTrip            262              19   \n",
       "1               1      Internet  RoundTrip            112              20   \n",
       "2               2      Internet  RoundTrip            243              22   \n",
       "3               1      Internet  RoundTrip             96              31   \n",
       "4               2      Internet  RoundTrip             68              22   \n",
       "\n",
       "   flight_hour flight_day   route booking_origin  wants_extra_baggage  \\\n",
       "0            7        Sat  AKLDEL    New Zealand                    1   \n",
       "1            3        Sat  AKLDEL    New Zealand                    0   \n",
       "2           17        Wed  AKLDEL          India                    1   \n",
       "3            4        Sat  AKLDEL    New Zealand                    0   \n",
       "4           15        Wed  AKLDEL          India                    1   \n",
       "\n",
       "   wants_preferred_seat  wants_in_flight_meals  flight_duration  \\\n",
       "0                     0                      0             5.52   \n",
       "1                     0                      0             5.52   \n",
       "2                     1                      0             5.52   \n",
       "3                     0                      1             5.52   \n",
       "4                     0                      1             5.52   \n",
       "\n",
       "   booking_complete  \n",
       "0                 0  \n",
       "1                 0  \n",
       "2                 0  \n",
       "3                 0  \n",
       "4                 0  "
      ]
     },
     "execution_count": 3,
     "metadata": {},
     "output_type": "execute_result"
    }
   ],
   "source": [
    "# Preview the dataset\n",
    "df.head()"
   ]
  },
  {
   "cell_type": "code",
   "execution_count": 4,
   "id": "b91db118-3de2-4bd0-b5fd-a53c7f8b265a",
   "metadata": {},
   "outputs": [
    {
     "name": "stdout",
     "output_type": "stream",
     "text": [
      "<class 'pandas.core.frame.DataFrame'>\n",
      "RangeIndex: 50000 entries, 0 to 49999\n",
      "Data columns (total 14 columns):\n",
      " #   Column                 Non-Null Count  Dtype  \n",
      "---  ------                 --------------  -----  \n",
      " 0   num_passengers         50000 non-null  int64  \n",
      " 1   sales_channel          50000 non-null  object \n",
      " 2   trip_type              50000 non-null  object \n",
      " 3   purchase_lead          50000 non-null  int64  \n",
      " 4   length_of_stay         50000 non-null  int64  \n",
      " 5   flight_hour            50000 non-null  int64  \n",
      " 6   flight_day             50000 non-null  object \n",
      " 7   route                  50000 non-null  object \n",
      " 8   booking_origin         50000 non-null  object \n",
      " 9   wants_extra_baggage    50000 non-null  int64  \n",
      " 10  wants_preferred_seat   50000 non-null  int64  \n",
      " 11  wants_in_flight_meals  50000 non-null  int64  \n",
      " 12  flight_duration        50000 non-null  float64\n",
      " 13  booking_complete       50000 non-null  int64  \n",
      "dtypes: float64(1), int64(8), object(5)\n",
      "memory usage: 5.3+ MB\n"
     ]
    }
   ],
   "source": [
    "# View the shape, data type and null counts for each column in df\n",
    "df.info()"
   ]
  },
  {
   "cell_type": "code",
   "execution_count": 5,
   "id": "a7fd5373-0fe5-4a75-a86a-ba66977f5f00",
   "metadata": {},
   "outputs": [
    {
     "data": {
      "text/plain": [
       "719"
      ]
     },
     "execution_count": 5,
     "metadata": {},
     "output_type": "execute_result"
    }
   ],
   "source": [
    "# Check for duplicates in the train data\n",
    "df.duplicated().sum()"
   ]
  },
  {
   "cell_type": "code",
   "execution_count": 6,
   "id": "58ccee3c-4db6-4d20-976f-a2a916575ae4",
   "metadata": {},
   "outputs": [],
   "source": [
    "# Removing duplicate rows (keeping the first occurrence)\n",
    "df = df.drop_duplicates()"
   ]
  },
  {
   "cell_type": "markdown",
   "id": "d849fdae-0150-4741-afe1-4e9eb474f742",
   "metadata": {},
   "source": [
    "Based on the above information, our dataset doesn't have any null values.\n",
    "\n",
    "Further looking into the dataset we can see that our categorical and quantitative variables split as follow:\n",
    "\n",
    "- **Categorical variables**: `sales_channel`, `trip_type`, `flight_day`, `route`, `booking_origin`\n",
    "\n",
    "- **Numerical variables**: `num_passengers`, `purchase_lead`, `length_of_stay`, `flight_hour`, `wants_preferred_seat`, `wants_in_flight_meals`, `flight_duration`, `booking_complete`\n",
    "\n",
    "The goaal of this notebook is to investigate the relationship between the above features and the target, `wants_extra_baggage`. This will allow to build a model to predict if the customer will choose to add an extra baggage to their flight or not."
   ]
  },
  {
   "cell_type": "markdown",
   "id": "cd50915b-887f-4c2f-8e50-0f2e15a3b438",
   "metadata": {},
   "source": [
    "#### Data Cleaning: \"numerical variables\""
   ]
  },
  {
   "cell_type": "code",
   "execution_count": 7,
   "id": "53e6c72d-bf90-4e16-ad96-11b0513decdd",
   "metadata": {},
   "outputs": [
    {
     "data": {
      "text/html": [
       "<div>\n",
       "<style scoped>\n",
       "    .dataframe tbody tr th:only-of-type {\n",
       "        vertical-align: middle;\n",
       "    }\n",
       "\n",
       "    .dataframe tbody tr th {\n",
       "        vertical-align: top;\n",
       "    }\n",
       "\n",
       "    .dataframe thead th {\n",
       "        text-align: right;\n",
       "    }\n",
       "</style>\n",
       "<table border=\"1\" class=\"dataframe\">\n",
       "  <thead>\n",
       "    <tr style=\"text-align: right;\">\n",
       "      <th></th>\n",
       "      <th>num_passengers</th>\n",
       "      <th>purchase_lead</th>\n",
       "      <th>length_of_stay</th>\n",
       "      <th>flight_hour</th>\n",
       "      <th>wants_extra_baggage</th>\n",
       "      <th>wants_preferred_seat</th>\n",
       "      <th>wants_in_flight_meals</th>\n",
       "      <th>flight_duration</th>\n",
       "      <th>booking_complete</th>\n",
       "    </tr>\n",
       "  </thead>\n",
       "  <tbody>\n",
       "    <tr>\n",
       "      <th>count</th>\n",
       "      <td>49281.000000</td>\n",
       "      <td>49281.000000</td>\n",
       "      <td>49281.000000</td>\n",
       "      <td>49281.000000</td>\n",
       "      <td>49281.000000</td>\n",
       "      <td>49281.000000</td>\n",
       "      <td>49281.000000</td>\n",
       "      <td>49281.000000</td>\n",
       "      <td>49281.000000</td>\n",
       "    </tr>\n",
       "    <tr>\n",
       "      <th>mean</th>\n",
       "      <td>1.590187</td>\n",
       "      <td>84.723281</td>\n",
       "      <td>23.053976</td>\n",
       "      <td>9.070676</td>\n",
       "      <td>0.668229</td>\n",
       "      <td>0.295631</td>\n",
       "      <td>0.426635</td>\n",
       "      <td>7.279974</td>\n",
       "      <td>0.149977</td>\n",
       "    </tr>\n",
       "    <tr>\n",
       "      <th>std</th>\n",
       "      <td>1.016538</td>\n",
       "      <td>90.410229</td>\n",
       "      <td>33.832149</td>\n",
       "      <td>5.413099</td>\n",
       "      <td>0.470854</td>\n",
       "      <td>0.456331</td>\n",
       "      <td>0.494593</td>\n",
       "      <td>1.496390</td>\n",
       "      <td>0.357052</td>\n",
       "    </tr>\n",
       "    <tr>\n",
       "      <th>min</th>\n",
       "      <td>1.000000</td>\n",
       "      <td>0.000000</td>\n",
       "      <td>0.000000</td>\n",
       "      <td>0.000000</td>\n",
       "      <td>0.000000</td>\n",
       "      <td>0.000000</td>\n",
       "      <td>0.000000</td>\n",
       "      <td>4.670000</td>\n",
       "      <td>0.000000</td>\n",
       "    </tr>\n",
       "    <tr>\n",
       "      <th>25%</th>\n",
       "      <td>1.000000</td>\n",
       "      <td>21.000000</td>\n",
       "      <td>5.000000</td>\n",
       "      <td>5.000000</td>\n",
       "      <td>0.000000</td>\n",
       "      <td>0.000000</td>\n",
       "      <td>0.000000</td>\n",
       "      <td>5.620000</td>\n",
       "      <td>0.000000</td>\n",
       "    </tr>\n",
       "    <tr>\n",
       "      <th>50%</th>\n",
       "      <td>1.000000</td>\n",
       "      <td>51.000000</td>\n",
       "      <td>17.000000</td>\n",
       "      <td>9.000000</td>\n",
       "      <td>1.000000</td>\n",
       "      <td>0.000000</td>\n",
       "      <td>0.000000</td>\n",
       "      <td>7.570000</td>\n",
       "      <td>0.000000</td>\n",
       "    </tr>\n",
       "    <tr>\n",
       "      <th>75%</th>\n",
       "      <td>2.000000</td>\n",
       "      <td>115.000000</td>\n",
       "      <td>28.000000</td>\n",
       "      <td>13.000000</td>\n",
       "      <td>1.000000</td>\n",
       "      <td>1.000000</td>\n",
       "      <td>1.000000</td>\n",
       "      <td>8.830000</td>\n",
       "      <td>0.000000</td>\n",
       "    </tr>\n",
       "    <tr>\n",
       "      <th>max</th>\n",
       "      <td>9.000000</td>\n",
       "      <td>867.000000</td>\n",
       "      <td>778.000000</td>\n",
       "      <td>23.000000</td>\n",
       "      <td>1.000000</td>\n",
       "      <td>1.000000</td>\n",
       "      <td>1.000000</td>\n",
       "      <td>9.500000</td>\n",
       "      <td>1.000000</td>\n",
       "    </tr>\n",
       "  </tbody>\n",
       "</table>\n",
       "</div>"
      ],
      "text/plain": [
       "       num_passengers  purchase_lead  length_of_stay   flight_hour  \\\n",
       "count    49281.000000   49281.000000    49281.000000  49281.000000   \n",
       "mean         1.590187      84.723281       23.053976      9.070676   \n",
       "std          1.016538      90.410229       33.832149      5.413099   \n",
       "min          1.000000       0.000000        0.000000      0.000000   \n",
       "25%          1.000000      21.000000        5.000000      5.000000   \n",
       "50%          1.000000      51.000000       17.000000      9.000000   \n",
       "75%          2.000000     115.000000       28.000000     13.000000   \n",
       "max          9.000000     867.000000      778.000000     23.000000   \n",
       "\n",
       "       wants_extra_baggage  wants_preferred_seat  wants_in_flight_meals  \\\n",
       "count         49281.000000          49281.000000           49281.000000   \n",
       "mean              0.668229              0.295631               0.426635   \n",
       "std               0.470854              0.456331               0.494593   \n",
       "min               0.000000              0.000000               0.000000   \n",
       "25%               0.000000              0.000000               0.000000   \n",
       "50%               1.000000              0.000000               0.000000   \n",
       "75%               1.000000              1.000000               1.000000   \n",
       "max               1.000000              1.000000               1.000000   \n",
       "\n",
       "       flight_duration  booking_complete  \n",
       "count     49281.000000      49281.000000  \n",
       "mean          7.279974          0.149977  \n",
       "std           1.496390          0.357052  \n",
       "min           4.670000          0.000000  \n",
       "25%           5.620000          0.000000  \n",
       "50%           7.570000          0.000000  \n",
       "75%           8.830000          0.000000  \n",
       "max           9.500000          1.000000  "
      ]
     },
     "execution_count": 7,
     "metadata": {},
     "output_type": "execute_result"
    }
   ],
   "source": [
    "# Generate descriptive statistics of numerical variables in the data\n",
    "df.describe()"
   ]
  },
  {
   "cell_type": "code",
   "execution_count": 14,
   "id": "2aab3d97-172b-4435-90ed-ac7bbe6918e2",
   "metadata": {},
   "outputs": [
    {
     "name": "stdout",
     "output_type": "stream",
     "text": [
      "sales_channel\n",
      "Internet    43917\n",
      "Mobile       5364\n",
      "Name: count, dtype: int64\n",
      "\n",
      "\n",
      "trip_type\n",
      "RoundTrip     48779\n",
      "OneWay          386\n",
      "CircleTrip      116\n",
      "Name: count, dtype: int64\n",
      "\n",
      "\n",
      "flight_day\n",
      "Mon    7988\n",
      "Wed    7562\n",
      "Tue    7558\n",
      "Thu    7323\n",
      "Fri    6685\n",
      "Sun    6442\n",
      "Sat    5723\n",
      "Name: count, dtype: int64\n",
      "\n",
      "\n",
      "route\n",
      "AKLKUL    2620\n",
      "PENTPE     912\n",
      "MELSGN     833\n",
      "ICNSIN     793\n",
      "DMKKIX     729\n",
      "          ... \n",
      "AKLHGH       1\n",
      "JEDPDG       1\n",
      "JEDPEN       1\n",
      "DACPEK       1\n",
      "MRUXIY       1\n",
      "Name: count, Length: 799, dtype: int64\n",
      "\n",
      "\n",
      "booking_origin\n",
      "Australia               17691\n",
      "Malaysia                 7055\n",
      "South Korea              4502\n",
      "Japan                    3819\n",
      "China                    3284\n",
      "                        ...  \n",
      "Panama                      1\n",
      "Tonga                       1\n",
      "Tanzania                    1\n",
      "Bulgaria                    1\n",
      "Svalbard & Jan Mayen        1\n",
      "Name: count, Length: 104, dtype: int64\n",
      "\n",
      "\n"
     ]
    }
   ],
   "source": [
    "# Checking how many values we have in each categorical variable\n",
    "categorical_cols = ['sales_channel', 'trip_type', 'flight_day', 'route', 'booking_origin']\n",
    "for col in categorical_cols:\n",
    "    helper.value_count_column(df, col)"
   ]
  },
  {
   "cell_type": "code",
   "execution_count": 15,
   "id": "f868e589-37ae-4c70-b8c4-129ec8ef095a",
   "metadata": {},
   "outputs": [],
   "source": [
    "# Testing all the values in 'booking origin'\n",
    "test = df['booking_origin'].value_counts(ascending=False)"
   ]
  },
  {
   "cell_type": "code",
   "execution_count": 16,
   "id": "0a3918e2-e409-46a2-a1d0-2914467b5df1",
   "metadata": {},
   "outputs": [
    {
     "data": {
      "text/plain": [
       "booking_origin\n",
       "Australia               17691\n",
       "Malaysia                 7055\n",
       "South Korea              4502\n",
       "Japan                    3819\n",
       "China                    3284\n",
       "Indonesia                2317\n",
       "Taiwan                   2042\n",
       "Thailand                 1993\n",
       "India                    1258\n",
       "New Zealand              1060\n",
       "Singapore                1034\n",
       "United States             453\n",
       "Vietnam                   386\n",
       "Macau                     301\n",
       "Hong Kong                 294\n",
       "Philippines               265\n",
       "United Kingdom            173\n",
       "Brunei                    161\n",
       "Cambodia                  131\n",
       "(not set)                  78\n",
       "Sri Lanka                  73\n",
       "Italy                      58\n",
       "France                     58\n",
       "Canada                     57\n",
       "Germany                    54\n",
       "Myanmar (Burma)            51\n",
       "Netherlands                45\n",
       "Mauritius                  43\n",
       "United Arab Emirates       42\n",
       "Nepal                      39\n",
       "Bangladesh                 36\n",
       "Saudi Arabia               35\n",
       "Russia                     31\n",
       "Spain                      27\n",
       "Laos                       25\n",
       "Switzerland                18\n",
       "Chile                      17\n",
       "Qatar                      15\n",
       "Iran                       14\n",
       "Sweden                     12\n",
       "Runion                    12\n",
       "Mexico                      9\n",
       "Kuwait                      9\n",
       "Oman                        9\n",
       "Brazil                      9\n",
       "Turkey                      9\n",
       "Mongolia                    8\n",
       "Austria                     8\n",
       "Poland                      8\n",
       "Czech Republic              8\n",
       "Name: count, dtype: int64"
      ]
     },
     "execution_count": 16,
     "metadata": {},
     "output_type": "execute_result"
    }
   ],
   "source": [
    "test.head(50)"
   ]
  },
  {
   "cell_type": "code",
   "execution_count": 17,
   "id": "5ce566b3-ddbe-4b0d-894f-a99dbabe5ffe",
   "metadata": {},
   "outputs": [],
   "source": [
    "# Testing all the values in 'route'\n",
    "test2 = df['route'].value_counts(ascending=False)"
   ]
  },
  {
   "cell_type": "code",
   "execution_count": 13,
   "id": "3c611c50-a7b9-4fd1-8146-2ca842086392",
   "metadata": {},
   "outputs": [
    {
     "data": {
      "text/plain": [
       "route\n",
       "AKLKUL    2620\n",
       "PENTPE     912\n",
       "MELSGN     833\n",
       "ICNSIN     793\n",
       "DMKKIX     729\n",
       "          ... \n",
       "CMBOOL     126\n",
       "MYYPER     125\n",
       "DELPER     123\n",
       "CGKTPE     122\n",
       "MNLPER     121\n",
       "Name: count, Length: 100, dtype: int64"
      ]
     },
     "execution_count": 13,
     "metadata": {},
     "output_type": "execute_result"
    }
   ],
   "source": [
    "test2.head(100)"
   ]
  },
  {
   "cell_type": "code",
   "execution_count": null,
   "id": "30bfe012-5e9d-4d6b-a29f-f8f18f93d615",
   "metadata": {},
   "outputs": [],
   "source": []
  },
  {
   "cell_type": "code",
   "execution_count": null,
   "id": "e61f67df-fba6-4af9-af2c-d91094f25db7",
   "metadata": {},
   "outputs": [],
   "source": []
  },
  {
   "cell_type": "code",
   "execution_count": null,
   "id": "08718d78-9815-4c2b-a391-b087a4e2840e",
   "metadata": {},
   "outputs": [],
   "source": []
  },
  {
   "cell_type": "code",
   "execution_count": null,
   "id": "0f331e43-5af9-4c50-992c-a90fd74b986f",
   "metadata": {},
   "outputs": [],
   "source": []
  },
  {
   "cell_type": "code",
   "execution_count": null,
   "id": "e2038309-7da8-46c2-b34f-a29e20357eeb",
   "metadata": {},
   "outputs": [],
   "source": []
  },
  {
   "cell_type": "code",
   "execution_count": null,
   "id": "9c132612-2e76-4897-a5a6-f21a1efa2af6",
   "metadata": {},
   "outputs": [],
   "source": []
  }
 ],
 "metadata": {
  "kernelspec": {
   "display_name": "Python (learn-env)",
   "language": "python",
   "name": "learn-env"
  },
  "language_info": {
   "codemirror_mode": {
    "name": "ipython",
    "version": 3
   },
   "file_extension": ".py",
   "mimetype": "text/x-python",
   "name": "python",
   "nbconvert_exporter": "python",
   "pygments_lexer": "ipython3",
   "version": "3.9.19"
  }
 },
 "nbformat": 4,
 "nbformat_minor": 5
}
